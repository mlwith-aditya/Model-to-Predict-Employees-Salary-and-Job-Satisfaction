{
 "cells": [
  {
   "cell_type": "markdown",
   "metadata": {},
   "source": [
    "# Program for Target Satisfaction (categorical variable)"
   ]
  },
  {
   "cell_type": "code",
   "execution_count": 1,
   "metadata": {},
   "outputs": [],
   "source": [
    "import pandas as pd\n",
    "import numpy as np\n",
    "import matplotlib.pyplot as plt\n",
    "import sklearn\n",
    "import seaborn as sns"
   ]
  },
  {
   "cell_type": "markdown",
   "metadata": {},
   "source": [
    "# Reading data file"
   ]
  },
  {
   "cell_type": "code",
   "execution_count": 2,
   "metadata": {},
   "outputs": [],
   "source": [
    "raw_data = pd.read_csv(\"DATASETS/Salarysatisfaction.csv\",encoding=('ISO-8859-1'),low_memory=False)"
   ]
  },
  {
   "cell_type": "code",
   "execution_count": 3,
   "metadata": {},
   "outputs": [
    {
     "name": "stdout",
     "output_type": "stream",
     "text": [
      "<class 'pandas.core.frame.DataFrame'>\n",
      "RangeIndex: 2946 entries, 0 to 2945\n",
      "Data columns (total 83 columns):\n",
      " #   Column                      Non-Null Count  Dtype  \n",
      "---  ------                      --------------  -----  \n",
      " 0   id                          2946 non-null   int64  \n",
      " 1   Target_Salary               2946 non-null   float64\n",
      " 2   Target_Satisfied            2946 non-null   int64  \n",
      " 3   LOAN_AMT                    2946 non-null   object \n",
      " 4   Business Title              2946 non-null   object \n",
      " 5   Civil Service Title         2946 non-null   object \n",
      " 6   Division/Work Unit          2946 non-null   object \n",
      " 7   Job Description             2946 non-null   object \n",
      " 8   Minimum Qual Requirements   2926 non-null   object \n",
      " 9   Preferred Skills            2553 non-null   object \n",
      " 10  Additional Information      1854 non-null   object \n",
      " 11  To Apply                    2945 non-null   object \n",
      " 12  Hours/Shift                 884 non-null    object \n",
      " 13  Residency Requirement       2942 non-null   object \n",
      " 14  Posting Date                2942 non-null   object \n",
      " 15  Posting Updated             2942 non-null   object \n",
      " 16  Process Date                2942 non-null   object \n",
      " 17  FormalEducation             2894 non-null   object \n",
      " 18  UndergradMajor              2624 non-null   object \n",
      " 19  CompanySize                 2946 non-null   object \n",
      " 20  DevType                     2901 non-null   object \n",
      " 21  YearsCoding                 2943 non-null   object \n",
      " 22  YearsCodingProf             2538 non-null   object \n",
      " 23  HopeFiveYears               2477 non-null   object \n",
      " 24  JobSearchStatus             2511 non-null   object \n",
      " 25  LastNewJob                  2499 non-null   object \n",
      " 26  UpdateCV                    2089 non-null   object \n",
      " 27  CommunicationTools          2023 non-null   object \n",
      " 28  TimeFullyProductive         2052 non-null   object \n",
      " 29  EducationTypes              2128 non-null   object \n",
      " 30  SelfTaughtTypes             1812 non-null   object \n",
      " 31  TimeAfterBootcamp           221 non-null    object \n",
      " 32  HackathonReasons            849 non-null    object \n",
      " 33  AgreeDisagree1              2133 non-null   object \n",
      " 34  AgreeDisagree2              2133 non-null   object \n",
      " 35  AgreeDisagree3              2139 non-null   object \n",
      " 36  LanguageWorkedWith          2447 non-null   object \n",
      " 37  LanguageDesireNextYear      2279 non-null   object \n",
      " 38  DatabaseWorkedWith          2130 non-null   object \n",
      " 39  DatabaseDesireNextYear      1831 non-null   object \n",
      " 40  PlatformWorkedWith          2070 non-null   object \n",
      " 41  PlatformDesireNextYear      1909 non-null   object \n",
      " 42  FrameworkWorkedWith         1633 non-null   object \n",
      " 43  FrameworkDesireNextYear     1731 non-null   object \n",
      " 44  IDE                         2360 non-null   object \n",
      " 45  OperatingSystem             2377 non-null   object \n",
      " 46  Methodology                 1991 non-null   object \n",
      " 47  VersionControl              2332 non-null   object \n",
      " 48  CheckInCode                 2319 non-null   object \n",
      " 49  AIDangerous                 2000 non-null   object \n",
      " 50  AIInteresting               2076 non-null   object \n",
      " 51  AIResponsible               2070 non-null   object \n",
      " 52  AIFuture                    2196 non-null   object \n",
      " 53  Age                         2027 non-null   object \n",
      " 54  term                        2946 non-null   object \n",
      " 55  loan_status                 2946 non-null   object \n",
      " 56  pymnt_plan                  2946 non-null   object \n",
      " 57  orignal_website_directory   2946 non-null   object \n",
      " 58  purpose                     2946 non-null   object \n",
      " 59  title                       2882 non-null   object \n",
      " 60  zip_code                    2946 non-null   object \n",
      " 61  addr_state                  2946 non-null   object \n",
      " 62  dti                         2946 non-null   float64\n",
      " 63  earliest_cr_line            2946 non-null   object \n",
      " 64  last_pymnt_d                2946 non-null   object \n",
      " 65  last_pymnt_amnt             2946 non-null   float64\n",
      " 66  next_pymnt_d                336 non-null    object \n",
      " 67  last_credit_pull_d          2946 non-null   object \n",
      " 68  Time                        2946 non-null   object \n",
      " 69  emp_length                  715 non-null    object \n",
      " 70  your_favoritearticle_today  2945 non-null   object \n",
      " 71  url                         2946 non-null   object \n",
      " 72  Email                       1941 non-null   object \n",
      " 73  homeaddress                 2629 non-null   object \n",
      " 74  latitude                    2629 non-null   float64\n",
      " 75  longitude                   2629 non-null   float64\n",
      " 76  PHONE                       715 non-null    object \n",
      " 77  officeaddress               2407 non-null   object \n",
      " 78  website                     2399 non-null   object \n",
      " 79  dateAdded                   2946 non-null   object \n",
      " 80  previousaddress             2946 non-null   object \n",
      " 81  phones                      2946 non-null   object \n",
      " 82  CrimeTime                   2946 non-null   object \n",
      "dtypes: float64(5), int64(2), object(76)\n",
      "memory usage: 1.9+ MB\n"
     ]
    }
   ],
   "source": [
    "raw_data.info()"
   ]
  },
  {
   "cell_type": "code",
   "execution_count": 4,
   "metadata": {},
   "outputs": [],
   "source": [
    "df = pd.DataFrame() #making a new dataframe"
   ]
  },
  {
   "cell_type": "markdown",
   "metadata": {},
   "source": [
    "# Selecting only meaningful column for Machine learning model"
   ]
  },
  {
   "cell_type": "code",
   "execution_count": 5,
   "metadata": {},
   "outputs": [],
   "source": [
    "df = raw_data[['Target_Salary', 'Target_Satisfied','id', 'LOAN_AMT',\n",
    "               'last_pymnt_amnt','term','loan_status','pymnt_plan','purpose','CompanySize','dti']]"
   ]
  },
  {
   "cell_type": "markdown",
   "metadata": {},
   "source": [
    "# Pre-processing the caregorical values  into numerical data type"
   ]
  },
  {
   "cell_type": "code",
   "execution_count": 6,
   "metadata": {},
   "outputs": [],
   "source": [
    "col_name = ['term','loan_status','pymnt_plan','purpose','CompanySize']"
   ]
  },
  {
   "cell_type": "code",
   "execution_count": 7,
   "metadata": {},
   "outputs": [
    {
     "name": "stderr",
     "output_type": "stream",
     "text": [
      "<ipython-input-7-7d8785be3c1e>:2: SettingWithCopyWarning: \n",
      "A value is trying to be set on a copy of a slice from a DataFrame.\n",
      "Try using .loc[row_indexer,col_indexer] = value instead\n",
      "\n",
      "See the caveats in the documentation: https://pandas.pydata.org/pandas-docs/stable/user_guide/indexing.html#returning-a-view-versus-a-copy\n",
      "  df[name] = pd.factorize(df[name])[0]\n"
     ]
    }
   ],
   "source": [
    "for name in col_name:\n",
    "    df[name] = pd.factorize(df[name])[0]"
   ]
  },
  {
   "cell_type": "code",
   "execution_count": 8,
   "metadata": {},
   "outputs": [
    {
     "data": {
      "text/html": [
       "<div>\n",
       "<style scoped>\n",
       "    .dataframe tbody tr th:only-of-type {\n",
       "        vertical-align: middle;\n",
       "    }\n",
       "\n",
       "    .dataframe tbody tr th {\n",
       "        vertical-align: top;\n",
       "    }\n",
       "\n",
       "    .dataframe thead th {\n",
       "        text-align: right;\n",
       "    }\n",
       "</style>\n",
       "<table border=\"1\" class=\"dataframe\">\n",
       "  <thead>\n",
       "    <tr style=\"text-align: right;\">\n",
       "      <th></th>\n",
       "      <th>Target_Salary</th>\n",
       "      <th>Target_Satisfied</th>\n",
       "      <th>id</th>\n",
       "      <th>LOAN_AMT</th>\n",
       "      <th>last_pymnt_amnt</th>\n",
       "      <th>term</th>\n",
       "      <th>loan_status</th>\n",
       "      <th>pymnt_plan</th>\n",
       "      <th>purpose</th>\n",
       "      <th>CompanySize</th>\n",
       "      <th>dti</th>\n",
       "    </tr>\n",
       "  </thead>\n",
       "  <tbody>\n",
       "    <tr>\n",
       "      <th>0</th>\n",
       "      <td>42405.00</td>\n",
       "      <td>0</td>\n",
       "      <td>68407277</td>\n",
       "      <td>$3,600.00</td>\n",
       "      <td>122.67</td>\n",
       "      <td>0</td>\n",
       "      <td>0</td>\n",
       "      <td>0</td>\n",
       "      <td>0</td>\n",
       "      <td>0</td>\n",
       "      <td>5.91</td>\n",
       "    </tr>\n",
       "    <tr>\n",
       "      <th>1</th>\n",
       "      <td>60740.00</td>\n",
       "      <td>1</td>\n",
       "      <td>68355089</td>\n",
       "      <td>$24,700.00</td>\n",
       "      <td>926.35</td>\n",
       "      <td>0</td>\n",
       "      <td>0</td>\n",
       "      <td>0</td>\n",
       "      <td>1</td>\n",
       "      <td>1</td>\n",
       "      <td>16.06</td>\n",
       "    </tr>\n",
       "    <tr>\n",
       "      <th>2</th>\n",
       "      <td>51907.68</td>\n",
       "      <td>0</td>\n",
       "      <td>68341763</td>\n",
       "      <td>$20,000.00</td>\n",
       "      <td>15813.30</td>\n",
       "      <td>1</td>\n",
       "      <td>0</td>\n",
       "      <td>0</td>\n",
       "      <td>2</td>\n",
       "      <td>0</td>\n",
       "      <td>10.78</td>\n",
       "    </tr>\n",
       "    <tr>\n",
       "      <th>3</th>\n",
       "      <td>51907.68</td>\n",
       "      <td>0</td>\n",
       "      <td>66310712</td>\n",
       "      <td>$35,000.00</td>\n",
       "      <td>829.90</td>\n",
       "      <td>1</td>\n",
       "      <td>1</td>\n",
       "      <td>0</td>\n",
       "      <td>0</td>\n",
       "      <td>2</td>\n",
       "      <td>17.06</td>\n",
       "    </tr>\n",
       "    <tr>\n",
       "      <th>4</th>\n",
       "      <td>35.00</td>\n",
       "      <td>1</td>\n",
       "      <td>68476807</td>\n",
       "      <td>$10,400.00</td>\n",
       "      <td>10128.96</td>\n",
       "      <td>1</td>\n",
       "      <td>0</td>\n",
       "      <td>0</td>\n",
       "      <td>3</td>\n",
       "      <td>1</td>\n",
       "      <td>25.37</td>\n",
       "    </tr>\n",
       "  </tbody>\n",
       "</table>\n",
       "</div>"
      ],
      "text/plain": [
       "   Target_Salary  Target_Satisfied        id     LOAN_AMT  last_pymnt_amnt  \\\n",
       "0       42405.00                 0  68407277   $3,600.00            122.67   \n",
       "1       60740.00                 1  68355089  $24,700.00            926.35   \n",
       "2       51907.68                 0  68341763  $20,000.00          15813.30   \n",
       "3       51907.68                 0  66310712  $35,000.00            829.90   \n",
       "4          35.00                 1  68476807  $10,400.00          10128.96   \n",
       "\n",
       "   term  loan_status  pymnt_plan  purpose  CompanySize    dti  \n",
       "0     0            0           0        0            0   5.91  \n",
       "1     0            0           0        1            1  16.06  \n",
       "2     1            0           0        2            0  10.78  \n",
       "3     1            1           0        0            2  17.06  \n",
       "4     1            0           0        3            1  25.37  "
      ]
     },
     "execution_count": 8,
     "metadata": {},
     "output_type": "execute_result"
    }
   ],
   "source": [
    "df.head()"
   ]
  },
  {
   "cell_type": "markdown",
   "metadata": {},
   "source": [
    "# Pre-processing the feature LOAN_AMT to make it numerical datatype by removing Dollar and comma  symbol"
   ]
  },
  {
   "cell_type": "code",
   "execution_count": 9,
   "metadata": {},
   "outputs": [
    {
     "name": "stderr",
     "output_type": "stream",
     "text": [
      "<ipython-input-9-10b887500cfe>:1: SettingWithCopyWarning: \n",
      "A value is trying to be set on a copy of a slice from a DataFrame.\n",
      "Try using .loc[row_indexer,col_indexer] = value instead\n",
      "\n",
      "See the caveats in the documentation: https://pandas.pydata.org/pandas-docs/stable/user_guide/indexing.html#returning-a-view-versus-a-copy\n",
      "  df['LOAN_AMT'] = df['LOAN_AMT'].str.replace(',', '')\n",
      "<ipython-input-9-10b887500cfe>:2: SettingWithCopyWarning: \n",
      "A value is trying to be set on a copy of a slice from a DataFrame.\n",
      "Try using .loc[row_indexer,col_indexer] = value instead\n",
      "\n",
      "See the caveats in the documentation: https://pandas.pydata.org/pandas-docs/stable/user_guide/indexing.html#returning-a-view-versus-a-copy\n",
      "  df['LOAN_AMT'] = df['LOAN_AMT'].str.replace('$', '')\n",
      "<ipython-input-9-10b887500cfe>:3: SettingWithCopyWarning: \n",
      "A value is trying to be set on a copy of a slice from a DataFrame.\n",
      "Try using .loc[row_indexer,col_indexer] = value instead\n",
      "\n",
      "See the caveats in the documentation: https://pandas.pydata.org/pandas-docs/stable/user_guide/indexing.html#returning-a-view-versus-a-copy\n",
      "  df['LOAN_AMT'] = df['LOAN_AMT'].astype('float')\n"
     ]
    }
   ],
   "source": [
    "df['LOAN_AMT'] = df['LOAN_AMT'].str.replace(',', '')\n",
    "df['LOAN_AMT'] = df['LOAN_AMT'].str.replace('$', '')\n",
    "df['LOAN_AMT'] = df['LOAN_AMT'].astype('float')"
   ]
  },
  {
   "cell_type": "code",
   "execution_count": 10,
   "metadata": {},
   "outputs": [
    {
     "data": {
      "text/html": [
       "<div>\n",
       "<style scoped>\n",
       "    .dataframe tbody tr th:only-of-type {\n",
       "        vertical-align: middle;\n",
       "    }\n",
       "\n",
       "    .dataframe tbody tr th {\n",
       "        vertical-align: top;\n",
       "    }\n",
       "\n",
       "    .dataframe thead th {\n",
       "        text-align: right;\n",
       "    }\n",
       "</style>\n",
       "<table border=\"1\" class=\"dataframe\">\n",
       "  <thead>\n",
       "    <tr style=\"text-align: right;\">\n",
       "      <th></th>\n",
       "      <th>Target_Salary</th>\n",
       "      <th>Target_Satisfied</th>\n",
       "      <th>id</th>\n",
       "      <th>LOAN_AMT</th>\n",
       "      <th>last_pymnt_amnt</th>\n",
       "      <th>term</th>\n",
       "      <th>loan_status</th>\n",
       "      <th>pymnt_plan</th>\n",
       "      <th>purpose</th>\n",
       "      <th>CompanySize</th>\n",
       "      <th>dti</th>\n",
       "    </tr>\n",
       "  </thead>\n",
       "  <tbody>\n",
       "    <tr>\n",
       "      <th>0</th>\n",
       "      <td>42405.00</td>\n",
       "      <td>0</td>\n",
       "      <td>68407277</td>\n",
       "      <td>3600.0</td>\n",
       "      <td>122.67</td>\n",
       "      <td>0</td>\n",
       "      <td>0</td>\n",
       "      <td>0</td>\n",
       "      <td>0</td>\n",
       "      <td>0</td>\n",
       "      <td>5.91</td>\n",
       "    </tr>\n",
       "    <tr>\n",
       "      <th>1</th>\n",
       "      <td>60740.00</td>\n",
       "      <td>1</td>\n",
       "      <td>68355089</td>\n",
       "      <td>24700.0</td>\n",
       "      <td>926.35</td>\n",
       "      <td>0</td>\n",
       "      <td>0</td>\n",
       "      <td>0</td>\n",
       "      <td>1</td>\n",
       "      <td>1</td>\n",
       "      <td>16.06</td>\n",
       "    </tr>\n",
       "    <tr>\n",
       "      <th>2</th>\n",
       "      <td>51907.68</td>\n",
       "      <td>0</td>\n",
       "      <td>68341763</td>\n",
       "      <td>20000.0</td>\n",
       "      <td>15813.30</td>\n",
       "      <td>1</td>\n",
       "      <td>0</td>\n",
       "      <td>0</td>\n",
       "      <td>2</td>\n",
       "      <td>0</td>\n",
       "      <td>10.78</td>\n",
       "    </tr>\n",
       "    <tr>\n",
       "      <th>3</th>\n",
       "      <td>51907.68</td>\n",
       "      <td>0</td>\n",
       "      <td>66310712</td>\n",
       "      <td>35000.0</td>\n",
       "      <td>829.90</td>\n",
       "      <td>1</td>\n",
       "      <td>1</td>\n",
       "      <td>0</td>\n",
       "      <td>0</td>\n",
       "      <td>2</td>\n",
       "      <td>17.06</td>\n",
       "    </tr>\n",
       "    <tr>\n",
       "      <th>4</th>\n",
       "      <td>35.00</td>\n",
       "      <td>1</td>\n",
       "      <td>68476807</td>\n",
       "      <td>10400.0</td>\n",
       "      <td>10128.96</td>\n",
       "      <td>1</td>\n",
       "      <td>0</td>\n",
       "      <td>0</td>\n",
       "      <td>3</td>\n",
       "      <td>1</td>\n",
       "      <td>25.37</td>\n",
       "    </tr>\n",
       "  </tbody>\n",
       "</table>\n",
       "</div>"
      ],
      "text/plain": [
       "   Target_Salary  Target_Satisfied        id  LOAN_AMT  last_pymnt_amnt  term  \\\n",
       "0       42405.00                 0  68407277    3600.0           122.67     0   \n",
       "1       60740.00                 1  68355089   24700.0           926.35     0   \n",
       "2       51907.68                 0  68341763   20000.0         15813.30     1   \n",
       "3       51907.68                 0  66310712   35000.0           829.90     1   \n",
       "4          35.00                 1  68476807   10400.0         10128.96     1   \n",
       "\n",
       "   loan_status  pymnt_plan  purpose  CompanySize    dti  \n",
       "0            0           0        0            0   5.91  \n",
       "1            0           0        1            1  16.06  \n",
       "2            0           0        2            0  10.78  \n",
       "3            1           0        0            2  17.06  \n",
       "4            0           0        3            1  25.37  "
      ]
     },
     "execution_count": 10,
     "metadata": {},
     "output_type": "execute_result"
    }
   ],
   "source": [
    "df.head()"
   ]
  },
  {
   "cell_type": "markdown",
   "metadata": {},
   "source": [
    "# Target_Satisfied is having class imbalance"
   ]
  },
  {
   "cell_type": "code",
   "execution_count": 11,
   "metadata": {},
   "outputs": [
    {
     "name": "stderr",
     "output_type": "stream",
     "text": [
      "C:\\Users\\Abhinav\\anaconda3\\lib\\site-packages\\seaborn\\_decorators.py:36: FutureWarning: Pass the following variable as a keyword arg: x. From version 0.12, the only valid positional argument will be `data`, and passing other arguments without an explicit keyword will result in an error or misinterpretation.\n",
      "  warnings.warn(\n"
     ]
    },
    {
     "data": {
      "image/png": "[encoded data removed]",
      "text/plain": [
       "<Figure size 432x288 with 1 Axes>"
      ]
     },
     "metadata": {
      "needs_background": "light"
     },
     "output_type": "display_data"
    }
   ],
   "source": [
    "sns.countplot(df['Target_Satisfied'])\n",
    "plt.show()"
   ]
  },
  {
   "cell_type": "markdown",
   "metadata": {},
   "source": [
    "# Oversampling the Class-1"
   ]
  },
  {
   "cell_type": "code",
   "execution_count": 12,
   "metadata": {},
   "outputs": [],
   "source": [
    "class_0_df = df[df['Target_Satisfied']==0]\n",
    "class_1_df = df[df['Target_Satisfied']==1]"
   ]
  },
  {
   "cell_type": "code",
   "execution_count": 13,
   "metadata": {},
   "outputs": [
    {
     "data": {
      "text/plain": [
       "(2327, 11)"
      ]
     },
     "execution_count": 13,
     "metadata": {},
     "output_type": "execute_result"
    }
   ],
   "source": [
    "class_0_df.shape"
   ]
  },
  {
   "cell_type": "code",
   "execution_count": 14,
   "metadata": {},
   "outputs": [
    {
     "data": {
      "text/plain": [
       "(619, 11)"
      ]
     },
     "execution_count": 14,
     "metadata": {},
     "output_type": "execute_result"
    }
   ],
   "source": [
    "class_1_df.shape"
   ]
  },
  {
   "cell_type": "code",
   "execution_count": 15,
   "metadata": {},
   "outputs": [],
   "source": [
    "class_1_df_over = class_1_df.sample(2327,replace=True)"
   ]
  },
  {
   "cell_type": "code",
   "execution_count": 16,
   "metadata": {},
   "outputs": [
    {
     "data": {
      "text/plain": [
       "(2327, 11)"
      ]
     },
     "execution_count": 16,
     "metadata": {},
     "output_type": "execute_result"
    }
   ],
   "source": [
    "class_1_df_over.shape"
   ]
  },
  {
   "cell_type": "code",
   "execution_count": 17,
   "metadata": {},
   "outputs": [
    {
     "data": {
      "text/plain": [
       "(2327, 11)"
      ]
     },
     "execution_count": 17,
     "metadata": {},
     "output_type": "execute_result"
    }
   ],
   "source": [
    "class_0_df.shape"
   ]
  },
  {
   "cell_type": "code",
   "execution_count": 18,
   "metadata": {},
   "outputs": [],
   "source": [
    "balanced_df = pd.concat([class_0_df,class_1_df_over],axis=0)"
   ]
  },
  {
   "cell_type": "code",
   "execution_count": 19,
   "metadata": {},
   "outputs": [
    {
     "data": {
      "text/plain": [
       "1    2327\n",
       "0    2327\n",
       "Name: Target_Satisfied, dtype: int64"
      ]
     },
     "execution_count": 19,
     "metadata": {},
     "output_type": "execute_result"
    }
   ],
   "source": [
    "balanced_df['Target_Satisfied'].value_counts()"
   ]
  },
  {
   "cell_type": "code",
   "execution_count": 20,
   "metadata": {},
   "outputs": [
    {
     "name": "stderr",
     "output_type": "stream",
     "text": [
      "C:\\Users\\Abhinav\\anaconda3\\lib\\site-packages\\seaborn\\_decorators.py:36: FutureWarning: Pass the following variable as a keyword arg: x. From version 0.12, the only valid positional argument will be `data`, and passing other arguments without an explicit keyword will result in an error or misinterpretation.\n",
      "  warnings.warn(\n"
     ]
    },
    {
     "data": {
      "image/png": "[encoded data removed]",
      "text/plain": [
       "<Figure size 432x288 with 1 Axes>"
      ]
     },
     "metadata": {
      "needs_background": "light"
     },
     "output_type": "display_data"
    }
   ],
   "source": [
    "sns.countplot(balanced_df['Target_Satisfied'])\n",
    "plt.show()"
   ]
  },
  {
   "cell_type": "code",
   "execution_count": 21,
   "metadata": {},
   "outputs": [],
   "source": [
    "df = balanced_df"
   ]
  },
  {
   "cell_type": "markdown",
   "metadata": {},
   "source": [
    "# Model Building"
   ]
  },
  {
   "cell_type": "code",
   "execution_count": 22,
   "metadata": {},
   "outputs": [],
   "source": [
    "X = df.iloc[:,3:] # Feature Set"
   ]
  },
  {
   "cell_type": "code",
   "execution_count": 23,
   "metadata": {},
   "outputs": [
    {
     "data": {
      "text/html": [
       "<div>\n",
       "<style scoped>\n",
       "    .dataframe tbody tr th:only-of-type {\n",
       "        vertical-align: middle;\n",
       "    }\n",
       "\n",
       "    .dataframe tbody tr th {\n",
       "        vertical-align: top;\n",
       "    }\n",
       "\n",
       "    .dataframe thead th {\n",
       "        text-align: right;\n",
       "    }\n",
       "</style>\n",
       "<table border=\"1\" class=\"dataframe\">\n",
       "  <thead>\n",
       "    <tr style=\"text-align: right;\">\n",
       "      <th></th>\n",
       "      <th>LOAN_AMT</th>\n",
       "      <th>last_pymnt_amnt</th>\n",
       "      <th>term</th>\n",
       "      <th>loan_status</th>\n",
       "      <th>pymnt_plan</th>\n",
       "      <th>purpose</th>\n",
       "      <th>CompanySize</th>\n",
       "      <th>dti</th>\n",
       "    </tr>\n",
       "  </thead>\n",
       "  <tbody>\n",
       "    <tr>\n",
       "      <th>0</th>\n",
       "      <td>3600.0</td>\n",
       "      <td>122.67</td>\n",
       "      <td>0</td>\n",
       "      <td>0</td>\n",
       "      <td>0</td>\n",
       "      <td>0</td>\n",
       "      <td>0</td>\n",
       "      <td>5.91</td>\n",
       "    </tr>\n",
       "    <tr>\n",
       "      <th>2</th>\n",
       "      <td>20000.0</td>\n",
       "      <td>15813.30</td>\n",
       "      <td>1</td>\n",
       "      <td>0</td>\n",
       "      <td>0</td>\n",
       "      <td>2</td>\n",
       "      <td>0</td>\n",
       "      <td>10.78</td>\n",
       "    </tr>\n",
       "    <tr>\n",
       "      <th>3</th>\n",
       "      <td>35000.0</td>\n",
       "      <td>829.90</td>\n",
       "      <td>1</td>\n",
       "      <td>1</td>\n",
       "      <td>0</td>\n",
       "      <td>0</td>\n",
       "      <td>2</td>\n",
       "      <td>17.06</td>\n",
       "    </tr>\n",
       "    <tr>\n",
       "      <th>5</th>\n",
       "      <td>11950.0</td>\n",
       "      <td>7653.56</td>\n",
       "      <td>0</td>\n",
       "      <td>0</td>\n",
       "      <td>0</td>\n",
       "      <td>0</td>\n",
       "      <td>3</td>\n",
       "      <td>10.20</td>\n",
       "    </tr>\n",
       "    <tr>\n",
       "      <th>6</th>\n",
       "      <td>20000.0</td>\n",
       "      <td>15681.05</td>\n",
       "      <td>0</td>\n",
       "      <td>0</td>\n",
       "      <td>0</td>\n",
       "      <td>0</td>\n",
       "      <td>1</td>\n",
       "      <td>14.67</td>\n",
       "    </tr>\n",
       "  </tbody>\n",
       "</table>\n",
       "</div>"
      ],
      "text/plain": [
       "   LOAN_AMT  last_pymnt_amnt  term  loan_status  pymnt_plan  purpose  \\\n",
       "0    3600.0           122.67     0            0           0        0   \n",
       "2   20000.0         15813.30     1            0           0        2   \n",
       "3   35000.0           829.90     1            1           0        0   \n",
       "5   11950.0          7653.56     0            0           0        0   \n",
       "6   20000.0         15681.05     0            0           0        0   \n",
       "\n",
       "   CompanySize    dti  \n",
       "0            0   5.91  \n",
       "2            0  10.78  \n",
       "3            2  17.06  \n",
       "5            3  10.20  \n",
       "6            1  14.67  "
      ]
     },
     "execution_count": 23,
     "metadata": {},
     "output_type": "execute_result"
    }
   ],
   "source": [
    "X.head()"
   ]
  },
  {
   "cell_type": "code",
   "execution_count": 24,
   "metadata": {},
   "outputs": [],
   "source": [
    "y = df['Target_Satisfied'] # Target variable"
   ]
  },
  {
   "cell_type": "code",
   "execution_count": 25,
   "metadata": {},
   "outputs": [
    {
     "data": {
      "text/plain": [
       "0    0\n",
       "2    0\n",
       "3    0\n",
       "5    0\n",
       "6    0\n",
       "Name: Target_Satisfied, dtype: int64"
      ]
     },
     "execution_count": 25,
     "metadata": {},
     "output_type": "execute_result"
    }
   ],
   "source": [
    "y.head()"
   ]
  },
  {
   "cell_type": "code",
   "execution_count": 26,
   "metadata": {},
   "outputs": [],
   "source": [
    "from sklearn.model_selection import train_test_split\n",
    "from sklearn.metrics import accuracy_score,classification_report,confusion_matrix\n",
    "from sklearn.ensemble import RandomForestClassifier\n",
    "from sklearn.preprocessing import StandardScaler"
   ]
  },
  {
   "cell_type": "markdown",
   "metadata": {},
   "source": [
    "# Performing Scaling on feature dataframe"
   ]
  },
  {
   "cell_type": "code",
   "execution_count": 27,
   "metadata": {},
   "outputs": [],
   "source": [
    "sc =StandardScaler()\n",
    "X = sc.fit_transform(X)"
   ]
  },
  {
   "cell_type": "code",
   "execution_count": 28,
   "metadata": {},
   "outputs": [],
   "source": [
    "###Spliting the train and test data in 80:20 ratio"
   ]
  },
  {
   "cell_type": "code",
   "execution_count": 29,
   "metadata": {},
   "outputs": [],
   "source": [
    "X_train,X_test,y_train,y_test = train_test_split(X,y,test_size=.20,random_state=1,stratify=y)"
   ]
  },
  {
   "cell_type": "markdown",
   "metadata": {},
   "source": [
    "# Selecting the Random Forest Classifier for model"
   ]
  },
  {
   "cell_type": "code",
   "execution_count": 30,
   "metadata": {},
   "outputs": [],
   "source": [
    "model = RandomForestClassifier()"
   ]
  },
  {
   "cell_type": "code",
   "execution_count": 31,
   "metadata": {},
   "outputs": [
    {
     "data": {
      "text/plain": [
       "RandomForestClassifier()"
      ]
     },
     "execution_count": 31,
     "metadata": {},
     "output_type": "execute_result"
    }
   ],
   "source": [
    "model.fit(X_train,y_train)"
   ]
  },
  {
   "cell_type": "code",
   "execution_count": 32,
   "metadata": {},
   "outputs": [],
   "source": [
    "pred = model.predict(X_test)"
   ]
  },
  {
   "cell_type": "markdown",
   "metadata": {},
   "source": [
    "# Model Evaluation"
   ]
  },
  {
   "cell_type": "code",
   "execution_count": 33,
   "metadata": {
    "scrolled": false
   },
   "outputs": [
    {
     "name": "stdout",
     "output_type": "stream",
     "text": [
      "Classification Report \n",
      "\n",
      "              precision    recall  f1-score   support\n",
      "\n",
      "           0       0.97      0.88      0.92       465\n",
      "           1       0.89      0.97      0.93       466\n",
      "\n",
      "    accuracy                           0.93       931\n",
      "   macro avg       0.93      0.93      0.93       931\n",
      "weighted avg       0.93      0.93      0.93       931\n",
      "\n"
     ]
    }
   ],
   "source": [
    "print(\"Classification Report \\n\")\n",
    "print(classification_report(y_test,pred))"
   ]
  },
  {
   "cell_type": "code",
   "execution_count": 34,
   "metadata": {},
   "outputs": [
    {
     "name": "stdout",
     "output_type": "stream",
     "text": [
      "Confusion Matrix\n",
      "\n",
      "[[409  56]\n",
      " [ 13 453]]\n"
     ]
    }
   ],
   "source": [
    "print(\"Confusion Matrix\\n\")\n",
    "print(confusion_matrix(y_test,pred))"
   ]
  },
  {
   "cell_type": "code",
   "execution_count": null,
   "metadata": {},
   "outputs": [],
   "source": []
  }
 ],
 "metadata": {
  "kernelspec": {
   "display_name": "Python 3",
   "language": "python",
   "name": "python3"
  },
  "language_info": {
   "codemirror_mode": {
    "name": "ipython",
    "version": 3
   },
   "file_extension": ".py",
   "mimetype": "text/x-python",
   "name": "python",
   "nbconvert_exporter": "python",
   "pygments_lexer": "ipython3",
   "version": "3.8.5"
  }
 },
 "nbformat": 4,
 "nbformat_minor": 4
}
