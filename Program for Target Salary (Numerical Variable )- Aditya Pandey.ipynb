{
 "cells": [
  {
   "cell_type": "markdown",
   "metadata": {},
   "source": [
    "# Program for Target Salary (Numerical Variable ). "
   ]
  },
  {
   "cell_type": "markdown",
   "metadata": {},
   "source": [
    "# Importing required Libraries"
   ]
  },
  {
   "cell_type": "code",
   "execution_count": 1,
   "metadata": {},
   "outputs": [],
   "source": [
    "import pandas as pd\n",
    "import numpy as np\n",
    "import matplotlib.pyplot as plt\n",
    "import sklearn\n",
    "import seaborn as sns"
   ]
  },
  {
   "cell_type": "markdown",
   "metadata": {},
   "source": [
    "# Reading the data file "
   ]
  },
  {
   "cell_type": "code",
   "execution_count": 2,
   "metadata": {},
   "outputs": [],
   "source": [
    "raw_data = pd.read_csv(\"DATASETS/Salarysatisfaction.csv\",encoding=('ISO-8859-1'),low_memory=False)"
   ]
  },
  {
   "cell_type": "code",
   "execution_count": 3,
   "metadata": {},
   "outputs": [
    {
     "name": "stdout",
     "output_type": "stream",
     "text": [
      "<class 'pandas.core.frame.DataFrame'>\n",
      "RangeIndex: 2946 entries, 0 to 2945\n",
      "Data columns (total 83 columns):\n",
      " #   Column                      Non-Null Count  Dtype  \n",
      "---  ------                      --------------  -----  \n",
      " 0   id                          2946 non-null   int64  \n",
      " 1   Target_Salary               2946 non-null   float64\n",
      " 2   Target_Satisfied            2946 non-null   int64  \n",
      " 3   LOAN_AMT                    2946 non-null   object \n",
      " 4   Business Title              2946 non-null   object \n",
      " 5   Civil Service Title         2946 non-null   object \n",
      " 6   Division/Work Unit          2946 non-null   object \n",
      " 7   Job Description             2946 non-null   object \n",
      " 8   Minimum Qual Requirements   2926 non-null   object \n",
      " 9   Preferred Skills            2553 non-null   object \n",
      " 10  Additional Information      1854 non-null   object \n",
      " 11  To Apply                    2945 non-null   object \n",
      " 12  Hours/Shift                 884 non-null    object \n",
      " 13  Residency Requirement       2942 non-null   object \n",
      " 14  Posting Date                2942 non-null   object \n",
      " 15  Posting Updated             2942 non-null   object \n",
      " 16  Process Date                2942 non-null   object \n",
      " 17  FormalEducation             2894 non-null   object \n",
      " 18  UndergradMajor              2624 non-null   object \n",
      " 19  CompanySize                 2946 non-null   object \n",
      " 20  DevType                     2901 non-null   object \n",
      " 21  YearsCoding                 2943 non-null   object \n",
      " 22  YearsCodingProf             2538 non-null   object \n",
      " 23  HopeFiveYears               2477 non-null   object \n",
      " 24  JobSearchStatus             2511 non-null   object \n",
      " 25  LastNewJob                  2499 non-null   object \n",
      " 26  UpdateCV                    2089 non-null   object \n",
      " 27  CommunicationTools          2023 non-null   object \n",
      " 28  TimeFullyProductive         2052 non-null   object \n",
      " 29  EducationTypes              2128 non-null   object \n",
      " 30  SelfTaughtTypes             1812 non-null   object \n",
      " 31  TimeAfterBootcamp           221 non-null    object \n",
      " 32  HackathonReasons            849 non-null    object \n",
      " 33  AgreeDisagree1              2133 non-null   object \n",
      " 34  AgreeDisagree2              2133 non-null   object \n",
      " 35  AgreeDisagree3              2139 non-null   object \n",
      " 36  LanguageWorkedWith          2447 non-null   object \n",
      " 37  LanguageDesireNextYear      2279 non-null   object \n",
      " 38  DatabaseWorkedWith          2130 non-null   object \n",
      " 39  DatabaseDesireNextYear      1831 non-null   object \n",
      " 40  PlatformWorkedWith          2070 non-null   object \n",
      " 41  PlatformDesireNextYear      1909 non-null   object \n",
      " 42  FrameworkWorkedWith         1633 non-null   object \n",
      " 43  FrameworkDesireNextYear     1731 non-null   object \n",
      " 44  IDE                         2360 non-null   object \n",
      " 45  OperatingSystem             2377 non-null   object \n",
      " 46  Methodology                 1991 non-null   object \n",
      " 47  VersionControl              2332 non-null   object \n",
      " 48  CheckInCode                 2319 non-null   object \n",
      " 49  AIDangerous                 2000 non-null   object \n",
      " 50  AIInteresting               2076 non-null   object \n",
      " 51  AIResponsible               2070 non-null   object \n",
      " 52  AIFuture                    2196 non-null   object \n",
      " 53  Age                         2027 non-null   object \n",
      " 54  term                        2946 non-null   object \n",
      " 55  loan_status                 2946 non-null   object \n",
      " 56  pymnt_plan                  2946 non-null   object \n",
      " 57  orignal_website_directory   2946 non-null   object \n",
      " 58  purpose                     2946 non-null   object \n",
      " 59  title                       2882 non-null   object \n",
      " 60  zip_code                    2946 non-null   object \n",
      " 61  addr_state                  2946 non-null   object \n",
      " 62  dti                         2946 non-null   float64\n",
      " 63  earliest_cr_line            2946 non-null   object \n",
      " 64  last_pymnt_d                2946 non-null   object \n",
      " 65  last_pymnt_amnt             2946 non-null   float64\n",
      " 66  next_pymnt_d                336 non-null    object \n",
      " 67  last_credit_pull_d          2946 non-null   object \n",
      " 68  Time                        2946 non-null   object \n",
      " 69  emp_length                  715 non-null    object \n",
      " 70  your_favoritearticle_today  2945 non-null   object \n",
      " 71  url                         2946 non-null   object \n",
      " 72  Email                       1941 non-null   object \n",
      " 73  homeaddress                 2629 non-null   object \n",
      " 74  latitude                    2629 non-null   float64\n",
      " 75  longitude                   2629 non-null   float64\n",
      " 76  PHONE                       715 non-null    object \n",
      " 77  officeaddress               2407 non-null   object \n",
      " 78  website                     2399 non-null   object \n",
      " 79  dateAdded                   2946 non-null   object \n",
      " 80  previousaddress             2946 non-null   object \n",
      " 81  phones                      2946 non-null   object \n",
      " 82  CrimeTime                   2946 non-null   object \n",
      "dtypes: float64(5), int64(2), object(76)\n",
      "memory usage: 1.9+ MB\n"
     ]
    }
   ],
   "source": [
    "raw_data.info()"
   ]
  },
  {
   "cell_type": "markdown",
   "metadata": {},
   "source": [
    "# Assigning one common name as “Other” to all the less frequent Business Tittles (frequency less than 1)"
   ]
  },
  {
   "cell_type": "code",
   "execution_count": 4,
   "metadata": {},
   "outputs": [
    {
     "data": {
      "text/plain": [
       "Assistant Civil Engineer        33\n",
       "Project Manager                 29\n",
       "College Aide                    24\n",
       "Construction Project Manager    22\n",
       "ACCOUNTABLE MANAGER             20\n",
       "                                ..\n",
       "Applications Worker              1\n",
       "Revenue Support Specialist       1\n",
       "Civilian Investigator            1\n",
       "Agency Attorney, Level III       1\n",
       "Union Services Associate         1\n",
       "Name: Business Title, Length: 1244, dtype: int64"
      ]
     },
     "execution_count": 4,
     "metadata": {},
     "output_type": "execute_result"
    }
   ],
   "source": [
    "raw_data['Business Title'].value_counts()"
   ]
  },
  {
   "cell_type": "code",
   "execution_count": 5,
   "metadata": {},
   "outputs": [],
   "source": [
    "bussines_title_stats = raw_data.groupby('Business Title')['Business Title'].agg('count').sort_values(ascending=False)"
   ]
  },
  {
   "cell_type": "code",
   "execution_count": 6,
   "metadata": {},
   "outputs": [],
   "source": [
    "bussines_title_stats_less_than_one = bussines_title_stats[bussines_title_stats<=1]"
   ]
  },
  {
   "cell_type": "code",
   "execution_count": 7,
   "metadata": {},
   "outputs": [],
   "source": [
    "raw_data['Business Title'] = raw_data['Business Title'].apply(lambda x:'Other' if x in bussines_title_stats_less_than_one else x)"
   ]
  },
  {
   "cell_type": "code",
   "execution_count": 8,
   "metadata": {},
   "outputs": [
    {
     "data": {
      "text/plain": [
       "Other                                                    263\n",
       "Assistant Civil Engineer                                  33\n",
       "Project Manager                                           29\n",
       "College Aide                                              24\n",
       "Construction Project Manager                              22\n",
       "                                                        ... \n",
       "Assistant Corporation Counsel, Brooklyn Tort Division      2\n",
       "ASSISTANT ELECTRICAL INSPECTOR                             2\n",
       "Financial Auditor                                          2\n",
       "ASSISTANT ELECTRICAL ENGINEER                              2\n",
       "Director of Facilities Maintenance                         2\n",
       "Name: Business Title, Length: 982, dtype: int64"
      ]
     },
     "execution_count": 8,
     "metadata": {},
     "output_type": "execute_result"
    }
   ],
   "source": [
    "raw_data['Business Title'].value_counts()"
   ]
  },
  {
   "cell_type": "markdown",
   "metadata": {},
   "source": [
    "# Assigning one common name as “Other” to all the less frequent Civil Service Tittles (frequency less than 3)"
   ]
  },
  {
   "cell_type": "code",
   "execution_count": 9,
   "metadata": {},
   "outputs": [
    {
     "data": {
      "text/plain": [
       "COMMUNITY COORDINATOR             182\n",
       "AGENCY ATTORNEY                   112\n",
       "CIVIL ENGINEER                     87\n",
       "CITY RESEARCH SCIENTIST            83\n",
       "CONSTRUCTION PROJECT MANAGER       72\n",
       "                                 ... \n",
       "MEMBER OF THE ENVIRONMENTAL CO      1\n",
       "WORKER'S COMPENSATION BENEFITS      1\n",
       "COMPUTER SERVICE TECHNICIAN (C      1\n",
       "MARINE ENGINEER (WITH LICENSE)      1\n",
       "ADM HOUSING DEV SPEC(NON MGRL)      1\n",
       "Name: Civil Service Title, Length: 312, dtype: int64"
      ]
     },
     "execution_count": 9,
     "metadata": {},
     "output_type": "execute_result"
    }
   ],
   "source": [
    "raw_data['Civil Service Title'].value_counts()"
   ]
  },
  {
   "cell_type": "code",
   "execution_count": 10,
   "metadata": {},
   "outputs": [],
   "source": [
    "title_stats = raw_data.groupby('Civil Service Title')['Civil Service Title'].agg('count').sort_values(ascending=False)"
   ]
  },
  {
   "cell_type": "code",
   "execution_count": 11,
   "metadata": {},
   "outputs": [],
   "source": [
    "title_less_than_three=title_stats[title_stats<=3]"
   ]
  },
  {
   "cell_type": "code",
   "execution_count": 12,
   "metadata": {},
   "outputs": [],
   "source": [
    "raw_data['Civil Service Title'] = raw_data['Civil Service Title'].apply(lambda x:'Other' if x in title_less_than_three else x)"
   ]
  },
  {
   "cell_type": "code",
   "execution_count": 13,
   "metadata": {},
   "outputs": [
    {
     "data": {
      "text/plain": [
       "Other                             300\n",
       "COMMUNITY COORDINATOR             182\n",
       "AGENCY ATTORNEY                   112\n",
       "CIVIL ENGINEER                     87\n",
       "CITY RESEARCH SCIENTIST            83\n",
       "                                 ... \n",
       "CUSTODIAN                           4\n",
       "TRAFFIC DEVICE MAINTAINER           4\n",
       "YOUTH COORDINATOR (YOUTH SERVI      4\n",
       "ELECTRICAL ENGINEERING INTERN       4\n",
       "WATER USE INSPECTOR                 4\n",
       "Name: Civil Service Title, Length: 159, dtype: int64"
      ]
     },
     "execution_count": 13,
     "metadata": {},
     "output_type": "execute_result"
    }
   ],
   "source": [
    "raw_data['Civil Service Title'].value_counts()"
   ]
  },
  {
   "cell_type": "markdown",
   "metadata": {},
   "source": [
    "# Assigning one common name as “Other” to all the less frequent Divisions/Work Units (frequency less than 1)"
   ]
  },
  {
   "cell_type": "code",
   "execution_count": 14,
   "metadata": {},
   "outputs": [
    {
     "data": {
      "text/plain": [
       "Executive Management              56\n",
       "Central Brookly City Operation    36\n",
       "Law Department                    32\n",
       "Administration                    31\n",
       "Citywide Cybersecurity            29\n",
       "                                  ..\n",
       "Risk Mitigation Divison/Civ        1\n",
       "Vital Statistics/Vital Recor       1\n",
       "Project Development - IFA          1\n",
       "Conversions Unit                   1\n",
       "DCLM/Civ and Cadet                 1\n",
       "Name: Division/Work Unit, Length: 678, dtype: int64"
      ]
     },
     "execution_count": 14,
     "metadata": {},
     "output_type": "execute_result"
    }
   ],
   "source": [
    "raw_data['Division/Work Unit'].value_counts()"
   ]
  },
  {
   "cell_type": "code",
   "execution_count": 15,
   "metadata": {},
   "outputs": [],
   "source": [
    "division_stats = raw_data.groupby('Division/Work Unit')['Division/Work Unit'].agg('count').sort_values(ascending=False)"
   ]
  },
  {
   "cell_type": "code",
   "execution_count": 16,
   "metadata": {},
   "outputs": [],
   "source": [
    "division_stats_less_than_one = division_stats[division_stats<=1]"
   ]
  },
  {
   "cell_type": "code",
   "execution_count": 17,
   "metadata": {},
   "outputs": [],
   "source": [
    "raw_data['Division/Work Unit'] = raw_data['Division/Work Unit'].apply(lambda x:'Other' if x in division_stats_less_than_one else x)"
   ]
  },
  {
   "cell_type": "code",
   "execution_count": 18,
   "metadata": {},
   "outputs": [
    {
     "data": {
      "text/plain": [
       "Other                             118\n",
       "Executive Management               56\n",
       "Central Brookly City Operation     36\n",
       "Law Department                     32\n",
       "Administration                     31\n",
       "                                 ... \n",
       "Dep Comm Pub Info/Civ and Cad       2\n",
       "HR Central                          2\n",
       "QA Compliance & Training Dept       2\n",
       "Fitness Review Unit (FRU)           2\n",
       "Brooklyn Boro.Comm.                 2\n",
       "Name: Division/Work Unit, Length: 561, dtype: int64"
      ]
     },
     "execution_count": 18,
     "metadata": {},
     "output_type": "execute_result"
    }
   ],
   "source": [
    "raw_data['Division/Work Unit'].value_counts()"
   ]
  },
  {
   "cell_type": "markdown",
   "metadata": {},
   "source": [
    "# Pre-processing the categorical value into numerical datatypes"
   ]
  },
  {
   "cell_type": "code",
   "execution_count": 19,
   "metadata": {},
   "outputs": [],
   "source": [
    "df = pd.DataFrame()"
   ]
  },
  {
   "cell_type": "code",
   "execution_count": 20,
   "metadata": {},
   "outputs": [],
   "source": [
    "df = raw_data[['Target_Salary', 'Civil Service Title','Division/Work Unit','Business Title']]"
   ]
  },
  {
   "cell_type": "code",
   "execution_count": 21,
   "metadata": {},
   "outputs": [],
   "source": [
    "col_name = ['Civil Service Title','Division/Work Unit','Business Title']"
   ]
  },
  {
   "cell_type": "code",
   "execution_count": 22,
   "metadata": {},
   "outputs": [
    {
     "name": "stderr",
     "output_type": "stream",
     "text": [
      "<ipython-input-22-7d8785be3c1e>:2: SettingWithCopyWarning: \n",
      "A value is trying to be set on a copy of a slice from a DataFrame.\n",
      "Try using .loc[row_indexer,col_indexer] = value instead\n",
      "\n",
      "See the caveats in the documentation: https://pandas.pydata.org/pandas-docs/stable/user_guide/indexing.html#returning-a-view-versus-a-copy\n",
      "  df[name] = pd.factorize(df[name])[0]\n"
     ]
    }
   ],
   "source": [
    "for name in col_name:\n",
    "    df[name] = pd.factorize(df[name])[0]"
   ]
  },
  {
   "cell_type": "code",
   "execution_count": 23,
   "metadata": {},
   "outputs": [
    {
     "data": {
      "text/html": [
       "<div>\n",
       "<style scoped>\n",
       "    .dataframe tbody tr th:only-of-type {\n",
       "        vertical-align: middle;\n",
       "    }\n",
       "\n",
       "    .dataframe tbody tr th {\n",
       "        vertical-align: top;\n",
       "    }\n",
       "\n",
       "    .dataframe thead th {\n",
       "        text-align: right;\n",
       "    }\n",
       "</style>\n",
       "<table border=\"1\" class=\"dataframe\">\n",
       "  <thead>\n",
       "    <tr style=\"text-align: right;\">\n",
       "      <th></th>\n",
       "      <th>Target_Salary</th>\n",
       "      <th>Civil Service Title</th>\n",
       "      <th>Division/Work Unit</th>\n",
       "      <th>Business Title</th>\n",
       "    </tr>\n",
       "  </thead>\n",
       "  <tbody>\n",
       "    <tr>\n",
       "      <th>0</th>\n",
       "      <td>42405.00</td>\n",
       "      <td>0</td>\n",
       "      <td>0</td>\n",
       "      <td>0</td>\n",
       "    </tr>\n",
       "    <tr>\n",
       "      <th>1</th>\n",
       "      <td>60740.00</td>\n",
       "      <td>1</td>\n",
       "      <td>0</td>\n",
       "      <td>0</td>\n",
       "    </tr>\n",
       "    <tr>\n",
       "      <th>2</th>\n",
       "      <td>51907.68</td>\n",
       "      <td>2</td>\n",
       "      <td>1</td>\n",
       "      <td>1</td>\n",
       "    </tr>\n",
       "    <tr>\n",
       "      <th>3</th>\n",
       "      <td>51907.68</td>\n",
       "      <td>2</td>\n",
       "      <td>1</td>\n",
       "      <td>1</td>\n",
       "    </tr>\n",
       "    <tr>\n",
       "      <th>4</th>\n",
       "      <td>35.00</td>\n",
       "      <td>0</td>\n",
       "      <td>2</td>\n",
       "      <td>2</td>\n",
       "    </tr>\n",
       "  </tbody>\n",
       "</table>\n",
       "</div>"
      ],
      "text/plain": [
       "   Target_Salary  Civil Service Title  Division/Work Unit  Business Title\n",
       "0       42405.00                    0                   0               0\n",
       "1       60740.00                    1                   0               0\n",
       "2       51907.68                    2                   1               1\n",
       "3       51907.68                    2                   1               1\n",
       "4          35.00                    0                   2               2"
      ]
     },
     "execution_count": 23,
     "metadata": {},
     "output_type": "execute_result"
    }
   ],
   "source": [
    "df.head()"
   ]
  },
  {
   "cell_type": "markdown",
   "metadata": {},
   "source": [
    "# Minimizing outliers from Target variable using Z-score"
   ]
  },
  {
   "cell_type": "code",
   "execution_count": 24,
   "metadata": {},
   "outputs": [
    {
     "data": {
      "image/png": "[encoded data removed]",
      "text/plain": [
       "<Figure size 432x288 with 1 Axes>"
      ]
     },
     "metadata": {
      "needs_background": "light"
     },
     "output_type": "display_data"
    }
   ],
   "source": [
    "plt.boxplot(df['Target_Salary'])\n",
    "plt.show()"
   ]
  },
  {
   "cell_type": "code",
   "execution_count": 25,
   "metadata": {},
   "outputs": [],
   "source": [
    "from scipy.stats import zscore "
   ]
  },
  {
   "cell_type": "code",
   "execution_count": 26,
   "metadata": {},
   "outputs": [
    {
     "name": "stderr",
     "output_type": "stream",
     "text": [
      "<ipython-input-26-4803a2cefc5d>:1: SettingWithCopyWarning: \n",
      "A value is trying to be set on a copy of a slice from a DataFrame.\n",
      "Try using .loc[row_indexer,col_indexer] = value instead\n",
      "\n",
      "See the caveats in the documentation: https://pandas.pydata.org/pandas-docs/stable/user_guide/indexing.html#returning-a-view-versus-a-copy\n",
      "  df['zscore_tagert_salary'] = zscore(df['Target_Salary'])\n"
     ]
    }
   ],
   "source": [
    "df['zscore_tagert_salary'] = zscore(df['Target_Salary'])"
   ]
  },
  {
   "cell_type": "code",
   "execution_count": 27,
   "metadata": {},
   "outputs": [],
   "source": [
    "df_required_2 = df.drop(df[(df['zscore_tagert_salary']>3) | (df['zscore_tagert_salary']<-3)].index)"
   ]
  },
  {
   "cell_type": "code",
   "execution_count": 28,
   "metadata": {},
   "outputs": [
    {
     "data": {
      "image/png": "[encoded data removed]",
      "text/plain": [
       "<Figure size 432x288 with 1 Axes>"
      ]
     },
     "metadata": {
      "needs_background": "light"
     },
     "output_type": "display_data"
    }
   ],
   "source": [
    "plt.boxplot(df_required_2['Target_Salary'])\n",
    "plt.show()"
   ]
  },
  {
   "cell_type": "markdown",
   "metadata": {},
   "source": [
    "# Splitting data for train and test in 80:20 ratio"
   ]
  },
  {
   "cell_type": "code",
   "execution_count": 29,
   "metadata": {},
   "outputs": [],
   "source": [
    "X = df_required_2[[ 'Civil Service Title','Business Title','Division/Work Unit']]"
   ]
  },
  {
   "cell_type": "code",
   "execution_count": 30,
   "metadata": {},
   "outputs": [
    {
     "data": {
      "text/html": [
       "<div>\n",
       "<style scoped>\n",
       "    .dataframe tbody tr th:only-of-type {\n",
       "        vertical-align: middle;\n",
       "    }\n",
       "\n",
       "    .dataframe tbody tr th {\n",
       "        vertical-align: top;\n",
       "    }\n",
       "\n",
       "    .dataframe thead th {\n",
       "        text-align: right;\n",
       "    }\n",
       "</style>\n",
       "<table border=\"1\" class=\"dataframe\">\n",
       "  <thead>\n",
       "    <tr style=\"text-align: right;\">\n",
       "      <th></th>\n",
       "      <th>Civil Service Title</th>\n",
       "      <th>Business Title</th>\n",
       "      <th>Division/Work Unit</th>\n",
       "    </tr>\n",
       "  </thead>\n",
       "  <tbody>\n",
       "    <tr>\n",
       "      <th>0</th>\n",
       "      <td>0</td>\n",
       "      <td>0</td>\n",
       "      <td>0</td>\n",
       "    </tr>\n",
       "    <tr>\n",
       "      <th>1</th>\n",
       "      <td>1</td>\n",
       "      <td>0</td>\n",
       "      <td>0</td>\n",
       "    </tr>\n",
       "    <tr>\n",
       "      <th>2</th>\n",
       "      <td>2</td>\n",
       "      <td>1</td>\n",
       "      <td>1</td>\n",
       "    </tr>\n",
       "    <tr>\n",
       "      <th>3</th>\n",
       "      <td>2</td>\n",
       "      <td>1</td>\n",
       "      <td>1</td>\n",
       "    </tr>\n",
       "    <tr>\n",
       "      <th>4</th>\n",
       "      <td>0</td>\n",
       "      <td>2</td>\n",
       "      <td>2</td>\n",
       "    </tr>\n",
       "  </tbody>\n",
       "</table>\n",
       "</div>"
      ],
      "text/plain": [
       "   Civil Service Title  Business Title  Division/Work Unit\n",
       "0                    0               0                   0\n",
       "1                    1               0                   0\n",
       "2                    2               1                   1\n",
       "3                    2               1                   1\n",
       "4                    0               2                   2"
      ]
     },
     "execution_count": 30,
     "metadata": {},
     "output_type": "execute_result"
    }
   ],
   "source": [
    "X.head()"
   ]
  },
  {
   "cell_type": "code",
   "execution_count": 31,
   "metadata": {},
   "outputs": [],
   "source": [
    "y = df_required_2['Target_Salary']"
   ]
  },
  {
   "cell_type": "code",
   "execution_count": 32,
   "metadata": {},
   "outputs": [
    {
     "data": {
      "text/plain": [
       "0    42405.00\n",
       "1    60740.00\n",
       "2    51907.68\n",
       "3    51907.68\n",
       "4       35.00\n",
       "Name: Target_Salary, dtype: float64"
      ]
     },
     "execution_count": 32,
     "metadata": {},
     "output_type": "execute_result"
    }
   ],
   "source": [
    "y.head()"
   ]
  },
  {
   "cell_type": "code",
   "execution_count": 33,
   "metadata": {},
   "outputs": [],
   "source": [
    "from sklearn.model_selection import train_test_split\n",
    "from sklearn.metrics import r2_score,mean_squared_error,mean_absolute_error\n",
    "from sklearn.ensemble import RandomForestRegressor\n",
    "X_train,X_test,y_train,y_test = train_test_split(X,y,test_size=.20,random_state=2331)\n"
   ]
  },
  {
   "cell_type": "markdown",
   "metadata": {},
   "source": [
    "# Mutual Information Analysis"
   ]
  },
  {
   "cell_type": "code",
   "execution_count": 34,
   "metadata": {},
   "outputs": [],
   "source": [
    "from sklearn.feature_selection import mutual_info_regression\n",
    "mutual_info = mutual_info_regression(X_train,y_train)"
   ]
  },
  {
   "cell_type": "code",
   "execution_count": 35,
   "metadata": {},
   "outputs": [],
   "source": [
    "mutual_info = pd.Series(mutual_info)\n",
    "mutual_info.index = X_train.columns"
   ]
  },
  {
   "cell_type": "code",
   "execution_count": 36,
   "metadata": {},
   "outputs": [
    {
     "data": {
      "text/plain": [
       "Civil Service Title    0.456902\n",
       "Business Title         0.352855\n",
       "Division/Work Unit     0.305470\n",
       "dtype: float64"
      ]
     },
     "execution_count": 36,
     "metadata": {},
     "output_type": "execute_result"
    }
   ],
   "source": [
    "mutual_info"
   ]
  },
  {
   "cell_type": "markdown",
   "metadata": {},
   "source": [
    "# Performing Scaling on feature dataframe"
   ]
  },
  {
   "cell_type": "code",
   "execution_count": 37,
   "metadata": {},
   "outputs": [],
   "source": [
    "from sklearn.preprocessing import StandardScaler\n",
    "sc = StandardScaler()\n",
    "X = sc.fit_transform(X)"
   ]
  },
  {
   "cell_type": "markdown",
   "metadata": {},
   "source": [
    "# Selecting the Random Forest Regressor for model"
   ]
  },
  {
   "cell_type": "code",
   "execution_count": 38,
   "metadata": {},
   "outputs": [],
   "source": [
    "model = RandomForestRegressor(n_estimators=200)\n",
    "model.fit(X_train,y_train)\n",
    "pred = model.predict(X_test)"
   ]
  },
  {
   "cell_type": "markdown",
   "metadata": {},
   "source": [
    "# Model Evaluation"
   ]
  },
  {
   "cell_type": "code",
   "execution_count": 39,
   "metadata": {},
   "outputs": [
    {
     "name": "stdout",
     "output_type": "stream",
     "text": [
      "R2 score (coefficient of determination) is: 0.8283804609321183\n",
      "Mean Absolute Error is: 5862.938689634789\n",
      "Mean Squared Error is: 97272389.7598743\n",
      "Root Mean Squared Error (RMSE) is: 9862.676602214751\n"
     ]
    }
   ],
   "source": [
    "print(\"R2 score (coefficient of determination) is:\", r2_score(y_test,pred))\n",
    "print(\"Mean Absolute Error is:\", mean_absolute_error(y_test,pred))\n",
    "print(\"Mean Squared Error is:\", mean_squared_error(y_test,pred))\n",
    "print(\"Root Mean Squared Error (RMSE) is:\", np.sqrt(mean_squared_error(y_test,pred)))\n"
   ]
  },
  {
   "cell_type": "code",
   "execution_count": 40,
   "metadata": {},
   "outputs": [],
   "source": [
    "compare_df = pd.DataFrame()"
   ]
  },
  {
   "cell_type": "code",
   "execution_count": 41,
   "metadata": {},
   "outputs": [],
   "source": [
    "compare_df['Predicted Values'] = pred"
   ]
  },
  {
   "cell_type": "code",
   "execution_count": 42,
   "metadata": {},
   "outputs": [],
   "source": [
    "compare_df['Actual Values'] = y_test.values"
   ]
  },
  {
   "cell_type": "code",
   "execution_count": 43,
   "metadata": {},
   "outputs": [
    {
     "data": {
      "text/html": [
       "<div>\n",
       "<style scoped>\n",
       "    .dataframe tbody tr th:only-of-type {\n",
       "        vertical-align: middle;\n",
       "    }\n",
       "\n",
       "    .dataframe tbody tr th {\n",
       "        vertical-align: top;\n",
       "    }\n",
       "\n",
       "    .dataframe thead th {\n",
       "        text-align: right;\n",
       "    }\n",
       "</style>\n",
       "<table border=\"1\" class=\"dataframe\">\n",
       "  <thead>\n",
       "    <tr style=\"text-align: right;\">\n",
       "      <th></th>\n",
       "      <th>Predicted Values</th>\n",
       "      <th>Actual Values</th>\n",
       "    </tr>\n",
       "  </thead>\n",
       "  <tbody>\n",
       "    <tr>\n",
       "      <th>0</th>\n",
       "      <td>85162.316732</td>\n",
       "      <td>91537.0000</td>\n",
       "    </tr>\n",
       "    <tr>\n",
       "      <th>1</th>\n",
       "      <td>37224.288507</td>\n",
       "      <td>40275.0000</td>\n",
       "    </tr>\n",
       "    <tr>\n",
       "      <th>2</th>\n",
       "      <td>67094.005000</td>\n",
       "      <td>69176.0000</td>\n",
       "    </tr>\n",
       "    <tr>\n",
       "      <th>3</th>\n",
       "      <td>53467.515000</td>\n",
       "      <td>56990.0000</td>\n",
       "    </tr>\n",
       "    <tr>\n",
       "      <th>4</th>\n",
       "      <td>53719.271766</td>\n",
       "      <td>53134.0000</td>\n",
       "    </tr>\n",
       "    <tr>\n",
       "      <th>...</th>\n",
       "      <td>...</td>\n",
       "      <td>...</td>\n",
       "    </tr>\n",
       "    <tr>\n",
       "      <th>578</th>\n",
       "      <td>79173.550000</td>\n",
       "      <td>110000.0000</td>\n",
       "    </tr>\n",
       "    <tr>\n",
       "      <th>579</th>\n",
       "      <td>45936.757344</td>\n",
       "      <td>28.7488</td>\n",
       "    </tr>\n",
       "    <tr>\n",
       "      <th>580</th>\n",
       "      <td>89192.207701</td>\n",
       "      <td>105000.0000</td>\n",
       "    </tr>\n",
       "    <tr>\n",
       "      <th>581</th>\n",
       "      <td>55670.460000</td>\n",
       "      <td>57000.0000</td>\n",
       "    </tr>\n",
       "    <tr>\n",
       "      <th>582</th>\n",
       "      <td>25397.019550</td>\n",
       "      <td>41.7100</td>\n",
       "    </tr>\n",
       "  </tbody>\n",
       "</table>\n",
       "<p>583 rows × 2 columns</p>\n",
       "</div>"
      ],
      "text/plain": [
       "     Predicted Values  Actual Values\n",
       "0        85162.316732     91537.0000\n",
       "1        37224.288507     40275.0000\n",
       "2        67094.005000     69176.0000\n",
       "3        53467.515000     56990.0000\n",
       "4        53719.271766     53134.0000\n",
       "..                ...            ...\n",
       "578      79173.550000    110000.0000\n",
       "579      45936.757344        28.7488\n",
       "580      89192.207701    105000.0000\n",
       "581      55670.460000     57000.0000\n",
       "582      25397.019550        41.7100\n",
       "\n",
       "[583 rows x 2 columns]"
      ]
     },
     "execution_count": 43,
     "metadata": {},
     "output_type": "execute_result"
    }
   ],
   "source": [
    "compare_df"
   ]
  },
  {
   "cell_type": "code",
   "execution_count": 44,
   "metadata": {},
   "outputs": [
    {
     "data": {
      "text/plain": [
       "<AxesSubplot:>"
      ]
     },
     "execution_count": 44,
     "metadata": {},
     "output_type": "execute_result"
    },
    {
     "data": {
      "image/png": "[encoded data removed]",
      "text/plain": [
       "<Figure size 432x288 with 1 Axes>"
      ]
     },
     "metadata": {
      "needs_background": "light"
     },
     "output_type": "display_data"
    }
   ],
   "source": [
    "compare_df['Predicted Values'].plot()\n",
    "compare_df['Actual Values'].plot()"
   ]
  },
  {
   "cell_type": "code",
   "execution_count": 45,
   "metadata": {},
   "outputs": [
    {
     "data": {
      "text/plain": [
       "<AxesSubplot:>"
      ]
     },
     "execution_count": 45,
     "metadata": {},
     "output_type": "execute_result"
    },
    {
     "data": {
      "image/png": "[encoded data removed]",
      "text/plain": [
       "<Figure size 432x288 with 1 Axes>"
      ]
     },
     "metadata": {
      "needs_background": "light"
     },
     "output_type": "display_data"
    }
   ],
   "source": [
    "compare_df['Predicted Values'].plot()"
   ]
  },
  {
   "cell_type": "code",
   "execution_count": 46,
   "metadata": {},
   "outputs": [
    {
     "data": {
      "text/plain": [
       "<AxesSubplot:>"
      ]
     },
     "execution_count": 46,
     "metadata": {},
     "output_type": "execute_result"
    },
    {
     "data": {
      "image/png": "[encoded data removed]",
      "text/plain": [
       "<Figure size 432x288 with 1 Axes>"
      ]
     },
     "metadata": {
      "needs_background": "light"
     },
     "output_type": "display_data"
    }
   ],
   "source": [
    "compare_df['Actual Values'].plot()"
   ]
  },
  {
   "cell_type": "code",
   "execution_count": null,
   "metadata": {},
   "outputs": [],
   "source": []
  }
 ],
 "metadata": {
  "kernelspec": {
   "display_name": "Python 3",
   "language": "python",
   "name": "python3"
  },
  "language_info": {
   "codemirror_mode": {
    "name": "ipython",
    "version": 3
   },
   "file_extension": ".py",
   "mimetype": "text/x-python",
   "name": "python",
   "nbconvert_exporter": "python",
   "pygments_lexer": "ipython3",
   "version": "3.8.5"
  }
 },
 "nbformat": 4,
 "nbformat_minor": 4
}
